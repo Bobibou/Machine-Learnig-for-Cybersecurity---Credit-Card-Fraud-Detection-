{
 "cells": [
  {
   "cell_type": "code",
   "execution_count": null,
   "id": "6b34396d",
   "metadata": {
    "vscode": {
     "languageId": "plaintext"
    }
   },
   "outputs": [],
   "source": [
    "%run preprocessing_loader.ipynb"
   ]
  }
 ],
 "metadata": {
  "language_info": {
   "name": "python"
  }
 },
 "nbformat": 4,
 "nbformat_minor": 5
}

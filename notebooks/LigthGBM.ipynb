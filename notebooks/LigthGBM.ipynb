{
 "cells": [
  {
   "cell_type": "code",
   "execution_count": null,
   "id": "49b546c4",
   "metadata": {},
   "outputs": [],
   "source": [
    "%run eda_analysis.ipynb\n",
    "%run preprocessing_loader_v2.ipynb"
   ]
  },
  {
   "cell_type": "markdown",
   "id": "5961aa75",
   "metadata": {},
   "source": [
    "**LightGBM CODE**"
   ]
  },
  {
   "cell_type": "markdown",
   "id": "c8201bf3",
   "metadata": {},
   "source": [
    "Librairies\n"
   ]
  },
  {
   "cell_type": "code",
   "execution_count": null,
   "id": "eb76287e",
   "metadata": {},
   "outputs": [],
   "source": [
    "\n",
    "import pandas as pd \n",
    "import numpy as np \n",
    "from lightgbm import LGBMClassifier\n",
    "from sklearn.metrics import (f1_score, precision_score, recall_score,roc_auc_score,average_precision_score,confusion_matrix,classification_report)\n",
    "import matplotlib.pyplot as plt \n",
    "import seaborn as sns \n",
    "from time import time \n",
    "import optuna \n",
    "import warnings\n",
    "warnings.filterwarnings(\"ignore\", category=UserWarning)\n",
    "\n"
   ]
  },
  {
   "cell_type": "markdown",
   "id": "2091b8bf",
   "metadata": {},
   "source": [
    "Loading data"
   ]
  },
  {
   "cell_type": "code",
   "execution_count": null,
   "id": "56cdbe90",
   "metadata": {},
   "outputs": [],
   "source": [
    "# Load training data (Original and SMOTE)\n",
    "\n",
    "X_train_original = X_train_full\n",
    "y_train_original = y_train_full\n",
    "\n",
    "X_train_smote = X_train_resampled\n",
    "y_train_smote = y_train_resampled\n",
    "\n",
    "print(f\"   Original train: {X_train_original.shape}\")\n",
    "print(f\"   SMOTE train: {X_train_smote.shape}\")\n",
    "print(f\"   Validation: {X_val.shape}\")"
   ]
  },
  {
   "cell_type": "markdown",
   "id": "416d6432",
   "metadata": {},
   "source": [
    "**-------------------------------------------------- WITHOUT SMOTE --------------------------------------------------** "
   ]
  },
  {
   "cell_type": "markdown",
   "id": "7ce29988",
   "metadata": {},
   "source": [
    "First training"
   ]
  },
  {
   "cell_type": "code",
   "execution_count": null,
   "id": "7d93f9fe",
   "metadata": {},
   "outputs": [],
   "source": [
    "# Calculate scale_pos_weight\n",
    "scale = (y_train_original == 0).sum() / (y_train_original == 1).sum()\n",
    "print(f\"Class imbalance ratio : {scale:.1f}:1\")\n",
    "print(f\"scale_pos_weight: {scale:.1f}\")\n",
    "\n",
    "\n",
    "# Initialize LightGBM \n",
    "\n",
    "lgbm_base = LGBMClassifier(\n",
    "    n_estimators=1000,\n",
    "    learning_rate=0.1,\n",
    "    max_depth=6,\n",
    "    num_leaves=31,\n",
    "    scale_pos_weight = scale,\n",
    "    min_child_samples=20,\n",
    "    min_child_weight=0.001,\n",
    "    subsample=0.8,\n",
    "    colsample_bytree=0.8,\n",
    "    reg_alpha=0.0,\n",
    "    reg_lambda=0.0,\n",
    "    n_jobs = -1,\n",
    "    random_state=42,\n",
    "    verbose =-1,\n",
    ")\n",
    "\n",
    "start_time = time()\n",
    "lgbm_base.fit(X_train_original, y_train_original)\n",
    "training_time_base = time() - start_time\n",
    "\n",
    "print(f\"Trained in {training_time_base:.2f} seconds\\n \\n\")\n",
    "\n",
    "# Predictions\n",
    "\n",
    "y_pred_base = lgbm_base.predict(X_val)\n",
    "y_pred_proba_base = lgbm_base.predict_proba(X_val)[:,1]\n",
    "\n",
    "print(f\"F1-Score:          {f1_score(y_val, y_pred_base)*100:.4f} %\")\n",
    "print(f\"Precision:         {precision_score(y_val, y_pred_base)*100:.4f} %\")\n",
    "print(f\"Recall:            {recall_score(y_val, y_pred_base)*100:.4f} %\")\n",
    "print(f\"ROC-AUC:           {roc_auc_score(y_val, y_pred_proba_base)*100:.4f} %\")\n",
    "print(f\"PR-AUC:            {average_precision_score(y_val, y_pred_proba_base)*100:.4f} %\")"
   ]
  },
  {
   "cell_type": "markdown",
   "id": "41623b37",
   "metadata": {},
   "source": [
    "Optimisation using Optuna "
   ]
  },
  {
   "cell_type": "code",
   "execution_count": null,
   "id": "676b578f",
   "metadata": {},
   "outputs": [],
   "source": [
    "def objective(trial):\n",
    "    params = {\n",
    "        'objective':'binary',\n",
    "        'metric':'binary_logloss',\n",
    "        'n_estimators': 1000,\n",
    "        'random_state': 42,\n",
    "        'n_jobs': -1,\n",
    "        'scale_pos_weight': scale, \n",
    "        \n",
    "        'learning_rate': trial.suggest_float('learning_rate', 0.01, 0.2, log=True),\n",
    "        'num_leaves': trial.suggest_int('num_leaves', 20, 150),\n",
    "        'max_depth': trial.suggest_int('max_depth', 5, 12),\n",
    "        'min_child_samples': trial.suggest_int('min_child_samples', 20, 100),\n",
    "        'subsample': trial.suggest_float('subsample', 0.6, 1.0),\n",
    "        'colsample_bytree': trial.suggest_float('colsample_bytree', 0.6, 1.0),\n",
    "        'reg_alpha': trial.suggest_float('reg_alpha', 1e-8, 10.0, log=True),\n",
    "        'reg_lambda': trial.suggest_float('reg_lambda', 1e-8, 10.0, log=True),\n",
    "    }\n",
    "    \n",
    "    model = LGBMClassifier(**params)\n",
    "\n",
    "    model.fit(X_train_original, y_train_original, eval_set=[(X_val, y_val)],\n",
    "              eval_metric='f1')\n",
    "    \n",
    "    y_pred = model.predict(X_val)\n",
    "    score = f1_score(y_val,y_pred)\n",
    "\n",
    "    return score\n",
    "\n",
    "\n",
    "study = optuna.create_study(direction='maximize')\n",
    "study.optimize(objective, n_trials=50, show_progress_bar=True)\n",
    "\n",
    "# 3. Afficher les résultats\n",
    "print(\"Nombre d'essais terminés: \", len(study.trials))\n",
    "print(\"Meilleur essai:\")\n",
    "trial = study.best_trial\n",
    "\n",
    "print(\"  Valeur (F1-Score): \", trial.value)\n",
    "print(\"  Meilleurs paramètres: \")\n",
    "for key, value in trial.params.items():\n",
    "    print(f\"    {key}: {value}\")\n",
    "\n",
    "best_params = trial.params"
   ]
  },
  {
   "cell_type": "markdown",
   "id": "12dd37b7",
   "metadata": {},
   "source": [
    "After optimization"
   ]
  },
  {
   "cell_type": "code",
   "execution_count": null,
   "id": "d3f8490e",
   "metadata": {},
   "outputs": [],
   "source": [
    "# Initialize LightGBM \n",
    "\n",
    "lgbm_base_new = LGBMClassifier(\n",
    "    n_estimators=1000,\n",
    "    learning_rate=0.045498527992294334,\n",
    "    max_depth=10,\n",
    "    num_leaves=141,\n",
    "    scale_pos_weight = scale,\n",
    "    min_child_samples=61,\n",
    "    min_child_weight=0.001,\n",
    "    subsample=0.890923497210552,\n",
    "    colsample_bytree=0.7291315965375645,\n",
    "    reg_alpha= 0.0006260046088932341,\n",
    "    reg_lambda=0.0004326548208585303,\n",
    "    n_jobs = -1,\n",
    "    random_state=42,\n",
    "    verbose = -1,\n",
    ")\n",
    "\n",
    "start_time = time()\n",
    "lgbm_base_new.fit(X_train_original, y_train_original)\n",
    "training_time_base = time() - start_time\n",
    "\n",
    "print(f\"Trained in {training_time_base:.2f} seconds\\n \\n\")\n",
    "\n",
    "# Predictions\n",
    "\n",
    "y_pred_base_new = lgbm_base_new.predict(X_val)\n",
    "y_pred_proba_base_new = lgbm_base_new.predict_proba(X_val)[:,1]\n",
    "\n",
    "print(f\"F1-Score:          {f1_score(y_val, y_pred_base_new)*100:.4f} %\")\n",
    "print(f\"Precision:         {precision_score(y_val, y_pred_base_new)*100:.4f} %\")\n",
    "print(f\"Recall:            {recall_score(y_val, y_pred_base_new)*100:.4f} %\")\n",
    "print(f\"ROC-AUC:           {roc_auc_score(y_val, y_pred_proba_base_new)*100:.4f} %\")\n",
    "print(f\"PR-AUC:            {average_precision_score(y_val, y_pred_proba_base_new)*100:.4f} %\")"
   ]
  },
  {
   "cell_type": "code",
   "execution_count": null,
   "id": "1d493e46",
   "metadata": {},
   "outputs": [],
   "source": [
    "from sklearn.metrics import confusion_matrix, ConfusionMatrixDisplay\n",
    "import matplotlib.pyplot as plt\n",
    "\n",
    "cm = confusion_matrix(y_val, y_pred_base_new)\n",
    "disp = ConfusionMatrixDisplay(confusion_matrix=cm, display_labels=['Legit', 'Fraud'])\n",
    "disp.plot(cmap='Blues')\n",
    "plt.title('Confusion Matrix (Val Set)')\n",
    "plt.show()"
   ]
  },
  {
   "cell_type": "code",
   "execution_count": null,
   "id": "41af28b1",
   "metadata": {},
   "outputs": [],
   "source": [
    "import lightgbm as lgb\n",
    "lgb.plot_importance(lgbm_base_new, max_num_features=10, importance_type='gain')\n",
    "plt.title('Top Features (Gain)')\n",
    "plt.show()"
   ]
  },
  {
   "cell_type": "markdown",
   "id": "c84d9a92",
   "metadata": {},
   "source": [
    "**-------------------------------------------------- WITH SMOTE --------------------------------------------------** "
   ]
  },
  {
   "cell_type": "code",
   "execution_count": null,
   "id": "b39392c1",
   "metadata": {},
   "outputs": [],
   "source": [
    "def objective_smote(trial):\n",
    "    params = {\n",
    "        'objective': 'binary',\n",
    "        'metric': 'binary_logloss',\n",
    "        'n_estimators': 1000,\n",
    "        'random_state': 42,\n",
    "        'n_jobs': -1,        \n",
    "        'learning_rate': trial.suggest_float('learning_rate', 0.01, 0.2, log=True),\n",
    "        'num_leaves': trial.suggest_int('num_leaves', 20, 150),\n",
    "        'max_depth': trial.suggest_int('max_depth', 5, 12),\n",
    "        'min_child_samples': trial.suggest_int('min_child_samples', 20, 100),\n",
    "        'subsample': trial.suggest_float('subsample', 0.6, 1.0),\n",
    "        'colsample_bytree': trial.suggest_float('colsample_bytree', 0.6, 1.0),\n",
    "        'reg_alpha': trial.suggest_float('reg_alpha', 1e-8, 10.0, log=True),\n",
    "        'reg_lambda': trial.suggest_float('reg_lambda', 1e-8, 10.0, log=True),\n",
    "    }\n",
    "    \n",
    "    model = LGBMClassifier(**params)\n",
    "    \n",
    "    # Entraînement sur les données SMOTE\n",
    "    model.fit(X_train_resampled, y_train_resampled, \n",
    "              eval_set=[(X_val, y_val)],\n",
    "              eval_metric='f1',\n",
    "              ) # Ajout du pruning\n",
    "    \n",
    "    # Prédiction sur le jeu de validation ORIGINAL\n",
    "    y_pred = model.predict(X_val)\n",
    "    score = f1_score(y_val, y_pred)\n",
    "\n",
    "    return score\n",
    "\n",
    "# Lancement de l'étude d'optimisation\n",
    "print(\"--- Lancement de l'optimisation Optuna pour le modèle SMOTE ---\\\\n\")\n",
    "study_smote = optuna.create_study(direction='maximize', pruner=optuna.pruners.MedianPruner())\n",
    "study_smote.optimize(objective_smote, n_trials=50, show_progress_bar=True) # 50 essais pour une recherche robuste\n",
    "\n",
    "# Affichage des meilleurs résultats\n",
    "print(\"\\\\n--- Meilleurs hyperparamètres trouvés pour SMOTE ---\")\n",
    "best_params_smote = study_smote.best_trial.params\n",
    "for key, value in best_params_smote.items():\n",
    "    print(f\"    {key}: {value}\")\n",
    "\n",
    "# Entraînement du modèle final optimisé AVEC SMOTE\n",
    "print(\"\\\\n--- Entraînement du modèle final optimisé avec SMOTE ---\")\n",
    "lgbm_smote_best = LGBMClassifier(\n",
    "    n_estimators=1000,\n",
    "    random_state=42,\n",
    "    n_jobs=-1,\n",
    "    **best_params_smote\n",
    ")\n",
    "\n",
    "start_time = time()\n",
    "lgbm_smote_best.fit(X_train_resampled, y_train_resampled)\n",
    "training_time_smote = time() - start_time\n",
    "print(f\"Entraîné en {training_time_smote:.2f} secondes\\\\n\")\n",
    "\n",
    "# Évaluation sur le jeu de validation\n",
    "y_pred_smote_best = lgbm_smote_best.predict(X_val)\n",
    "y_pred_proba_smote_best = lgbm_smote_best.predict_proba(X_val)[:, 1]\n",
    "\n",
    "print(\"--- Performances sur le jeu de validation (Modèle SMOTE optimisé) ---\")\n",
    "print(f\"F1-Score:          {f1_score(y_val, y_pred_smote_best) * 100:.4f} %\")\n",
    "print(f\"Precision:         {precision_score(y_val, y_pred_smote_best) * 100:.4f} %\")\n",
    "print(f\"Recall:            {recall_score(y_val, y_pred_smote_best) * 100:.4f} %\")\n",
    "print(f\"ROC-AUC:           {roc_auc_score(y_val, y_pred_proba_smote_best) * 100:.4f} %\")\n",
    "print(f\"PR-AUC:            {average_precision_score(y_val, y_pred_proba_smote_best) * 100:.4f} %\\\\n\")\n"
   ]
  },
  {
   "cell_type": "code",
   "execution_count": null,
   "id": "55028dd1",
   "metadata": {},
   "outputs": [],
   "source": [
    "import lightgbm as lgb\n",
    "lgb.plot_importance(lgbm_smote_best, max_num_features=10, importance_type='gain')\n",
    "plt.title('Top Features (Gain)')\n",
    "plt.show()"
   ]
  },
  {
   "cell_type": "code",
   "execution_count": null,
   "id": "6ed247ff",
   "metadata": {},
   "outputs": [],
   "source": [
    "from sklearn.metrics import confusion_matrix, ConfusionMatrixDisplay\n",
    "import matplotlib.pyplot as plt\n",
    "\n",
    "cm = confusion_matrix(y_val, y_pred_smote_best)\n",
    "disp = ConfusionMatrixDisplay(confusion_matrix=cm, display_labels=['Legit', 'Fraud'])\n",
    "disp.plot(cmap='Blues')\n",
    "plt.title('Confusion Matrix (Val Set)')\n",
    "plt.show()"
   ]
  },
  {
   "cell_type": "markdown",
   "id": "14ccdaff",
   "metadata": {},
   "source": [
    "**COMPARISON**"
   ]
  },
  {
   "cell_type": "code",
   "execution_count": null,
   "id": "489b07be",
   "metadata": {},
   "outputs": [],
   "source": [
    "# Create a DataFrame for visualization\n",
    "metrics_data = {\n",
    "    'Metric': ['F1-Score', 'Precision', 'Recall', 'ROC-AUC', 'PR-AUC'],\n",
    "    'Without SMOTE': [\n",
    "        f1_score(y_val, y_pred_base_new),\n",
    "        precision_score(y_val, y_pred_base_new),\n",
    "        recall_score(y_val, y_pred_base_new),\n",
    "        roc_auc_score(y_val, y_pred_proba_base_new),\n",
    "        average_precision_score(y_val, y_pred_proba_base_new)\n",
    "    ],\n",
    "    'With SMOTE': [\n",
    "        f1_score(y_val, y_pred_smote_best),\n",
    "        precision_score(y_val, y_pred_smote_best),\n",
    "        recall_score(y_val, y_pred_smote_best),\n",
    "        roc_auc_score(y_val, y_pred_proba_smote_best),\n",
    "        average_precision_score(y_val, y_pred_proba_smote_best)\n",
    "    ]\n",
    "}\n",
    "df_metrics = pd.DataFrame(metrics_data).set_index('Metric')\n",
    "\n",
    "# Create the plot\n",
    "ax = df_metrics.plot(kind='bar', figsize=(14, 8), rot=0, colormap='viridis')\n",
    "plt.title('Complete Performance Comparison: Without SMOTE vs. With SMOTE', fontsize=16)\n",
    "plt.ylabel('Score', fontsize=12)\n",
    "plt.ylim(0.88, 1.0) # Adjust the y-axis limit to better visualize differences\n",
    "plt.grid(axis='y', linestyle='--', alpha=0.7)\n",
    "\n",
    "# Add data labels on top of the bars\n",
    "for container in ax.containers:\n",
    "    ax.bar_label(container, fmt='{:.4f}')\n",
    "\n",
    "plt.legend(title='Approach', fontsize=11)\n",
    "plt.tight_layout()\n",
    "\n",
    "# Display the plot\n",
    "plt.show()"
   ]
  }
 ],
 "metadata": {
  "kernelspec": {
   "display_name": "Python 3",
   "language": "python",
   "name": "python3"
  },
  "language_info": {
   "codemirror_mode": {
    "name": "ipython",
    "version": 3
   },
   "file_extension": ".py",
   "mimetype": "text/x-python",
   "name": "python",
   "nbconvert_exporter": "python",
   "pygments_lexer": "ipython3",
   "version": "3.13.2"
  }
 },
 "nbformat": 4,
 "nbformat_minor": 5
}
